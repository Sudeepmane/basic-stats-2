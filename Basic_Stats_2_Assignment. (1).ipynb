{
 "cells": [
  {
   "cell_type": "code",
   "execution_count": 1,
   "metadata": {
    "id": "9F0_gokJrTRS"
   },
   "outputs": [],
   "source": [
    "import numpy as np\n",
    "from scipy import stats"
   ]
  },
  {
   "cell_type": "code",
   "execution_count": 2,
   "metadata": {
    "id": "0C6drG0vr78f"
   },
   "outputs": [],
   "source": [
    "# Given data\n",
    "data = np.array([1.13, 1.55, 1.43, 0.92, 1.25, 1.36, 1.32, 0.85, 1.07, 1.48, 1.20, 1.33, 1.18, 1.22, 1.29])\n",
    "n = len(data)"
   ]
  },
  {
   "cell_type": "code",
   "execution_count": 3,
   "metadata": {
    "id": "C85dCOAUsHDN"
   },
   "outputs": [],
   "source": [
    "# Step 1: Calculate the sample mean\n",
    "mean = np.mean(data)"
   ]
  },
  {
   "cell_type": "code",
   "execution_count": 4,
   "metadata": {
    "id": "3WIEj89QsMgM"
   },
   "outputs": [],
   "source": [
    "# Step 2: Calculate the sample standard deviation\n",
    "# ddof=1 for sample standard deviation\n",
    "sample_std = np.std(data, ddof=1)"
   ]
  },
  {
   "cell_type": "code",
   "execution_count": 5,
   "metadata": {
    "id": "XlD0ozqSsVOl"
   },
   "outputs": [],
   "source": [
    "# Step 3: Find the t-critical value for 99% confidence interval, df = n-1\n",
    "alpha = 0.01\n",
    "t_critical = stats.t.ppf(1 - alpha/2, df=n-1)"
   ]
  },
  {
   "cell_type": "code",
   "execution_count": 6,
   "metadata": {
    "id": "9q5Bsb6lsbhc"
   },
   "outputs": [],
   "source": [
    "# Step 4: Compute the margin of error and confidence interval for Part A\n",
    "margin_of_error_a = t_critical * (sample_std / np.sqrt(n))\n",
    "ci_a_lower = mean - margin_of_error_a\n",
    "ci_a_upper = mean + margin_of_error_a"
   ]
  },
  {
   "cell_type": "code",
   "execution_count": 7,
   "metadata": {
    "id": "gqqOmR7asgP9"
   },
   "outputs": [],
   "source": [
    "# For Part B: Known population standard deviation\n",
    "pop_std = 0.2  # Given\n",
    "z_critical = stats.norm.ppf(1 - alpha/2)"
   ]
  },
  {
   "cell_type": "code",
   "execution_count": 8,
   "metadata": {
    "id": "Hom0PJTWsmLc"
   },
   "outputs": [],
   "source": [
    "# Compute the margin of error and confidence interval for Part B\n",
    "margin_of_error_b = z_critical * (pop_std / np.sqrt(n))\n",
    "ci_b_lower = mean - margin_of_error_b\n",
    "ci_b_upper = mean + margin_of_error_b"
   ]
  },
  {
   "cell_type": "code",
   "execution_count": 9,
   "metadata": {
    "colab": {
     "base_uri": "https://localhost:8080/"
    },
    "id": "ITzV08Ozsqw8",
    "outputId": "a237f08f-70b2-4a06-f70e-9cf121d89774"
   },
   "outputs": [
    {
     "data": {
      "text/plain": [
       "(1.2386666666666666,\n",
       " 0.19316412956959936,\n",
       " (1.0901973384384906, 1.3871359948948425),\n",
       " (1.1056514133957607, 1.3716819199375725))"
      ]
     },
     "execution_count": 9,
     "metadata": {},
     "output_type": "execute_result"
    }
   ],
   "source": [
    "# Output both confidence intervals\n",
    "(mean, sample_std, (ci_a_lower, ci_a_upper), (ci_b_lower, ci_b_upper))"
   ]
  }
 ],
 "metadata": {
  "colab": {
   "provenance": []
  },
  "kernelspec": {
   "display_name": "Python 3 (ipykernel)",
   "language": "python",
   "name": "python3"
  },
  "language_info": {
   "codemirror_mode": {
    "name": "ipython",
    "version": 3
   },
   "file_extension": ".py",
   "mimetype": "text/x-python",
   "name": "python",
   "nbconvert_exporter": "python",
   "pygments_lexer": "ipython3",
   "version": "3.12.4"
  }
 },
 "nbformat": 4,
 "nbformat_minor": 4
}
